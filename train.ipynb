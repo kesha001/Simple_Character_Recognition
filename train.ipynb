{
  "nbformat": 4,
  "nbformat_minor": 0,
  "metadata": {
    "colab": {
      "provenance": [],
      "gpuType": "T4"
    },
    "kernelspec": {
      "name": "python3",
      "display_name": "Python 3"
    },
    "language_info": {
      "name": "python"
    },
    "accelerator": "GPU",
    "gpuClass": "standard"
  },
  "cells": [
    {
      "cell_type": "code",
      "source": [
        "import keras\n",
        "from keras.models import Sequential\n",
        "from keras.layers import Conv2D, MaxPooling2D, Dropout, Flatten, Dense\n",
        "from tensorflow.keras.preprocessing.image import ImageDataGenerator\n",
        "\n",
        "import numpy as np\n",
        "import pandas as pd\n",
        "import matplotlib.pyplot as plt"
      ],
      "metadata": {
        "id": "EDSURzBm_feo"
      },
      "execution_count": 22,
      "outputs": []
    },
    {
      "cell_type": "code",
      "source": [
        "train_images = np.loadtxt(\"drive/MyDrive/CIH Intership/emnist-balanced-train.csv\", delimiter=\",\")"
      ],
      "metadata": {
        "id": "bXIFR0QR9y8p"
      },
      "execution_count": 2,
      "outputs": []
    },
    {
      "cell_type": "code",
      "source": [
        "print(train_images.shape)"
      ],
      "metadata": {
        "colab": {
          "base_uri": "https://localhost:8080/"
        },
        "id": "JG1TwfFKKsQX",
        "outputId": "ca60eca1-ca94-42ae-c27e-3ce4069954db"
      },
      "execution_count": 3,
      "outputs": [
        {
          "output_type": "stream",
          "name": "stdout",
          "text": [
            "(112800, 785)\n"
          ]
        }
      ]
    },
    {
      "cell_type": "markdown",
      "source": [
        "Remove data from letters Q(q) I(i) O(o) as they are not present in VIN code [standart](https://uk.wikipedia.org/wiki/%D0%86%D0%B4%D0%B5%D0%BD%D1%82%D0%B8%D1%84%D1%96%D0%BA%D0%B0%D1%86%D1%96%D0%B9%D0%BD%D0%B8%D0%B9_%D0%BD%D0%BE%D0%BC%D0%B5%D1%80_%D1%82%D1%80%D0%B0%D0%BD%D1%81%D0%BF%D0%BE%D1%80%D1%82%D0%BD%D0%BE%D0%B3%D0%BE_%D0%B7%D0%B0%D1%81%D0%BE%D0%B1%D1%83)"
      ],
      "metadata": {
        "id": "6S7E2bx1FgO-"
      }
    },
    {
      "cell_type": "code",
      "source": [
        "train_images = train_images[np.in1d(train_images[:, 0], (18, 24, 26, 29, 44), invert=True)]\n",
        "print(train_images.shape)"
      ],
      "metadata": {
        "colab": {
          "base_uri": "https://localhost:8080/"
        },
        "id": "Wt0nAls4Chxu",
        "outputId": "2dd5ca20-f600-4fe0-ca22-4546c78ef454"
      },
      "execution_count": 4,
      "outputs": [
        {
          "output_type": "stream",
          "name": "stdout",
          "text": [
            "(100800, 785)\n"
          ]
        }
      ]
    },
    {
      "cell_type": "code",
      "source": [
        "train_labels = train_images[:, 0]\n",
        "train_images = train_images[:, 1:]"
      ],
      "metadata": {
        "id": "e9HmbMt2Nwd_"
      },
      "execution_count": 5,
      "outputs": []
    },
    {
      "cell_type": "code",
      "source": [
        "np.unique(train_labels)"
      ],
      "metadata": {
        "colab": {
          "base_uri": "https://localhost:8080/"
        },
        "id": "2wKzK8YTOYWr",
        "outputId": "32d12d11-d11a-4433-f7dc-84d5f72a3388"
      },
      "execution_count": 8,
      "outputs": [
        {
          "output_type": "execute_result",
          "data": {
            "text/plain": [
              "array([ 0.,  1.,  2.,  3.,  4.,  5.,  6.,  7.,  8.,  9., 10., 11., 12.,\n",
              "       13., 14., 15., 16., 17., 19., 20., 21., 22., 23., 25., 27., 28.,\n",
              "       30., 31., 32., 33., 34., 35., 36., 37., 38., 39., 40., 41., 42.,\n",
              "       43., 45., 46.])"
            ]
          },
          "metadata": {},
          "execution_count": 8
        }
      ]
    },
    {
      "cell_type": "code",
      "source": [
        "test_images = np.loadtxt(\"drive/MyDrive/CIH Intership/emnist-balanced-test.csv\", delimiter=\",\")\n",
        "test_images = test_images[np.in1d(test_images[:, 0], (18, 24, 26, 29, 44), invert=True)]\n",
        "test_images.shape"
      ],
      "metadata": {
        "colab": {
          "base_uri": "https://localhost:8080/"
        },
        "id": "NIQtZArzGwPQ",
        "outputId": "5e99408e-cc3a-4145-a605-951e3b9467a1"
      },
      "execution_count": 13,
      "outputs": [
        {
          "output_type": "execute_result",
          "data": {
            "text/plain": [
              "(16800, 785)"
            ]
          },
          "metadata": {},
          "execution_count": 13
        }
      ]
    },
    {
      "cell_type": "code",
      "source": [
        "test_labels = test_images[:, 0]\n",
        "test_images = test_images[:, 1:]\n",
        "print(test_images.shape)\n",
        "print(test_labels.shape)"
      ],
      "metadata": {
        "colab": {
          "base_uri": "https://localhost:8080/"
        },
        "id": "1ze6lFx2qyH9",
        "outputId": "135e351d-50dd-4de0-bf33-132b211b4845"
      },
      "execution_count": 14,
      "outputs": [
        {
          "output_type": "stream",
          "name": "stdout",
          "text": [
            "(16800, 784)\n",
            "(16800,)\n"
          ]
        }
      ]
    },
    {
      "cell_type": "code",
      "source": [
        "by_merge_map = {0:'0', 1:'1', 2:'2', 3:'3', 4:'4', 5:'5', 6:'6', 7:'7', 8:'8', 9:'9', 10:'A', 11:'B', \n",
        "                12:'C', 13:'D', 14:'E', 15:'F', 16:'G', 17:'H', 18:'I', 19:'J', 20:'K', 21:'L', 22:'M', \n",
        "                23:'N', 24:'O', 25:'P', 26:'Q', 27:'R', 28:'S', 29:'T', 30:'U', 31:'V', 32:'W', 33:'X', \n",
        "                34:'Y', 35:'Z', 36:'a', 37:'b', 38:'d', 39:'e', 40:'f', 41:'g', 42:'h', 43:'n', 44:'q', \n",
        "                45:'r', 46:'t'}"
      ],
      "metadata": {
        "id": "kIUAGiamjmi0"
      },
      "execution_count": 15,
      "outputs": []
    },
    {
      "cell_type": "markdown",
      "source": [
        "Transpose image for correct representation"
      ],
      "metadata": {
        "id": "CVoNT9iWpdpG"
      }
    },
    {
      "cell_type": "code",
      "source": [
        "train_images = np.transpose(np.reshape(train_images, (train_images.shape[0],28, 28)), axes=[0,2,1])\n",
        "test_images = np.transpose(np.reshape(test_images, (test_images.shape[0],28, 28)), axes=[0,2,1])"
      ],
      "metadata": {
        "id": "GtQT4ANGNDuv"
      },
      "execution_count": 16,
      "outputs": []
    },
    {
      "cell_type": "markdown",
      "source": [
        "Normalize data"
      ],
      "metadata": {
        "id": "QijBARN_qd8a"
      }
    },
    {
      "cell_type": "code",
      "source": [
        "train_images = keras.utils.normalize(train_images, axis = 1)\n",
        "test_images = keras.utils.normalize(test_images, axis = 1)"
      ],
      "metadata": {
        "id": "hy-VTLvTJXJM"
      },
      "execution_count": 17,
      "outputs": []
    },
    {
      "cell_type": "markdown",
      "source": [
        "Add dimension for single color channel"
      ],
      "metadata": {
        "id": "1RQaKJWdr1cw"
      }
    },
    {
      "cell_type": "code",
      "source": [
        "train_images = np.expand_dims(train_images, axis=3)\n",
        "test_images = np.expand_dims(test_images, axis=3)"
      ],
      "metadata": {
        "id": "L0wgaulCxFdE"
      },
      "execution_count": 18,
      "outputs": []
    },
    {
      "cell_type": "code",
      "source": [
        "print(train_images.shape)"
      ],
      "metadata": {
        "colab": {
          "base_uri": "https://localhost:8080/"
        },
        "id": "_F9hjrMbIOOC",
        "outputId": "6ef458ce-861a-4d40-8446-9b840c2a8f58"
      },
      "execution_count": 19,
      "outputs": [
        {
          "output_type": "stream",
          "name": "stdout",
          "text": [
            "(100800, 28, 28, 1)\n"
          ]
        }
      ]
    },
    {
      "cell_type": "markdown",
      "source": [
        "Discover examples of images"
      ],
      "metadata": {
        "id": "XjUoioAon_jW"
      }
    },
    {
      "cell_type": "code",
      "source": [
        "for i in range(0, 3):\n",
        "    plt.imshow(train_images[i, :, :, 0],cmap = plt.cm.binary)\n",
        "    plt.xlabel(by_merge_map[train_labels[i]])\n",
        "    plt.show()"
      ],
      "metadata": {
        "id": "jAd3wh_VcxHl",
        "colab": {
          "base_uri": "https://localhost:8080/",
          "height": 1000
        },
        "outputId": "cd32d9b3-14b4-4936-a6ab-d65d3d8f6dd2"
      },
      "execution_count": 20,
      "outputs": [
        {
          "output_type": "display_data",
          "data": {
            "text/plain": [
              "<Figure size 640x480 with 1 Axes>"
            ],
            "image/png": "[encoded data removed]"
          },
          "metadata": {}
        },
        {
          "output_type": "display_data",
          "data": {
            "text/plain": [
              "<Figure size 640x480 with 1 Axes>"
            ],
            "image/png": "[encoded data removed]"
          },
          "metadata": {}
        },
        {
          "output_type": "display_data",
          "data": {
            "text/plain": [
              "<Figure size 640x480 with 1 Axes>"
            ],
            "image/png": "[encoded data removed]"
          },
          "metadata": {}
        }
      ]
    },
    {
      "cell_type": "code",
      "source": [
        "rotation_range_val = 10\n",
        "width_shift_val = 0.10\n",
        "height_shift_val = 0.10\n",
        "\n",
        "train_datagen = ImageDataGenerator(rotation_range = rotation_range_val, width_shift_range = width_shift_val,\n",
        "                                    height_shift_range = height_shift_val)\n",
        "\n",
        "train_datagen.fit(train_images.reshape(train_images.shape[0], 28, 28, 1))"
      ],
      "metadata": {
        "id": "I9Ek3gtzqQdi"
      },
      "execution_count": 23,
      "outputs": []
    },
    {
      "cell_type": "code",
      "source": [
        "val_datagen = ImageDataGenerator()\n",
        "val_datagen.fit(test_images.reshape(test_images.shape[0], 28, 28, 1))"
      ],
      "metadata": {
        "colab": {
          "base_uri": "https://localhost:8080/"
        },
        "id": "vPgg6QsYqQRi",
        "outputId": "c90846aa-6ca2-4b2f-8b65-0dd4d74e9efe"
      },
      "execution_count": null,
      "outputs": [
        {
          "output_type": "execute_result",
          "data": {
            "text/plain": [
              "<keras.preprocessing.image.ImageDataGenerator at 0x7f8d3adbcf70>"
            ]
          },
          "metadata": {},
          "execution_count": 34
        }
      ]
    },
    {
      "cell_type": "markdown",
      "source": [
        "Model defining"
      ],
      "metadata": {
        "id": "iDyAOALg3hLh"
      }
    },
    {
      "cell_type": "code",
      "source": [
        "model = Sequential()\n",
        "model.add(Conv2D(32, kernel_size=(3, 3), activation='relu', input_shape=(28, 28, 1), padding='same'))\n",
        "model.add(MaxPooling2D((2, 2)))\n",
        "\n",
        "model.add(Conv2D(64, (3,3), activation='relu'))\n",
        "model.add(MaxPooling2D(2,2))\n",
        "\n",
        "model.add(Conv2D(128, (3,3), activation='relu'))\n",
        "model.add(MaxPooling2D(2,2))\n",
        "\n",
        "model.add(Dropout(0.2))\n",
        "\n",
        "model.add(Flatten())\n",
        "model.add(Dense(256, activation='relu'))\n",
        "model.add(Dense(128, activation='relu'))\n",
        "model.add(Dense(47, activation = 'softmax'))"
      ],
      "metadata": {
        "id": "0Wm8GqUSqQPO"
      },
      "execution_count": 39,
      "outputs": []
    },
    {
      "cell_type": "code",
      "source": [
        "model.summary()"
      ],
      "metadata": {
        "id": "z2UuLcZOcxFU",
        "colab": {
          "base_uri": "https://localhost:8080/"
        },
        "outputId": "693a6b84-6636-4f81-add0-c396f7a3d811"
      },
      "execution_count": 40,
      "outputs": [
        {
          "output_type": "stream",
          "name": "stdout",
          "text": [
            "Model: \"sequential_2\"\n",
            "_________________________________________________________________\n",
            " Layer (type)                Output Shape              Param #   \n",
            "=================================================================\n",
            " conv2d_6 (Conv2D)           (None, 28, 28, 32)        320       \n",
            "                                                                 \n",
            " max_pooling2d_6 (MaxPooling  (None, 14, 14, 32)       0         \n",
            " 2D)                                                             \n",
            "                                                                 \n",
            " conv2d_7 (Conv2D)           (None, 12, 12, 64)        18496     \n",
            "                                                                 \n",
            " max_pooling2d_7 (MaxPooling  (None, 6, 6, 64)         0         \n",
            " 2D)                                                             \n",
            "                                                                 \n",
            " conv2d_8 (Conv2D)           (None, 4, 4, 128)         73856     \n",
            "                                                                 \n",
            " max_pooling2d_8 (MaxPooling  (None, 2, 2, 128)        0         \n",
            " 2D)                                                             \n",
            "                                                                 \n",
            " dropout_2 (Dropout)         (None, 2, 2, 128)         0         \n",
            "                                                                 \n",
            " flatten_2 (Flatten)         (None, 512)               0         \n",
            "                                                                 \n",
            " dense_6 (Dense)             (None, 256)               131328    \n",
            "                                                                 \n",
            " dense_7 (Dense)             (None, 128)               32896     \n",
            "                                                                 \n",
            " dense_8 (Dense)             (None, 47)                6063      \n",
            "                                                                 \n",
            "=================================================================\n",
            "Total params: 262,959\n",
            "Trainable params: 262,959\n",
            "Non-trainable params: 0\n",
            "_________________________________________________________________\n"
          ]
        }
      ]
    },
    {
      "cell_type": "code",
      "source": [
        "model.compile(optimizer='adam', loss=keras.losses.SparseCategoricalCrossentropy(), metrics=['accuracy'])"
      ],
      "metadata": {
        "id": "KQOoc3lwcxCx"
      },
      "execution_count": 41,
      "outputs": []
    },
    {
      "cell_type": "code",
      "source": [
        "train_images.shape"
      ],
      "metadata": {
        "colab": {
          "base_uri": "https://localhost:8080/"
        },
        "id": "HfQww_amuF1x",
        "outputId": "a2bb5f28-81d6-4f0b-c544-35c4d60ff77a"
      },
      "execution_count": 42,
      "outputs": [
        {
          "output_type": "execute_result",
          "data": {
            "text/plain": [
              "(100800, 28, 28, 1)"
            ]
          },
          "metadata": {},
          "execution_count": 42
        }
      ]
    },
    {
      "cell_type": "code",
      "source": [
        "history = model.fit(train_datagen.flow(train_images, train_labels, batch_size=512),\n",
        "         validation_data = (test_images, test_labels), validation_batch_size = 32, epochs= 20)"
      ],
      "metadata": {
        "colab": {
          "base_uri": "https://localhost:8080/"
        },
        "id": "4DJe8osHrm4t",
        "outputId": "de09e3e8-cb60-4889-afa2-ea97774ff89a"
      },
      "execution_count": 43,
      "outputs": [
        {
          "output_type": "stream",
          "name": "stdout",
          "text": [
            "Epoch 1/20\n",
            "197/197 [==============================] - 29s 137ms/step - loss: 1.7991 - accuracy: 0.4945 - val_loss: 0.5922 - val_accuracy: 0.8214\n",
            "Epoch 2/20\n",
            "197/197 [==============================] - 27s 135ms/step - loss: 0.7290 - accuracy: 0.7739 - val_loss: 0.4292 - val_accuracy: 0.8648\n",
            "Epoch 3/20\n",
            "197/197 [==============================] - 28s 143ms/step - loss: 0.5549 - accuracy: 0.8215 - val_loss: 0.3932 - val_accuracy: 0.8727\n",
            "Epoch 4/20\n",
            "197/197 [==============================] - 27s 135ms/step - loss: 0.4796 - accuracy: 0.8432 - val_loss: 0.3355 - val_accuracy: 0.8914\n",
            "Epoch 5/20\n",
            "197/197 [==============================] - 26s 134ms/step - loss: 0.4314 - accuracy: 0.8575 - val_loss: 0.3199 - val_accuracy: 0.8967\n",
            "Epoch 6/20\n",
            "197/197 [==============================] - 26s 134ms/step - loss: 0.3994 - accuracy: 0.8659 - val_loss: 0.2955 - val_accuracy: 0.9013\n",
            "Epoch 7/20\n",
            "197/197 [==============================] - 27s 138ms/step - loss: 0.3784 - accuracy: 0.8730 - val_loss: 0.2894 - val_accuracy: 0.9046\n",
            "Epoch 8/20\n",
            "197/197 [==============================] - 27s 135ms/step - loss: 0.3587 - accuracy: 0.8796 - val_loss: 0.2903 - val_accuracy: 0.9037\n",
            "Epoch 9/20\n",
            "197/197 [==============================] - 27s 135ms/step - loss: 0.3456 - accuracy: 0.8826 - val_loss: 0.2811 - val_accuracy: 0.9061\n",
            "Epoch 10/20\n",
            "197/197 [==============================] - 27s 136ms/step - loss: 0.3327 - accuracy: 0.8870 - val_loss: 0.2879 - val_accuracy: 0.9060\n",
            "Epoch 11/20\n",
            "197/197 [==============================] - 28s 144ms/step - loss: 0.3220 - accuracy: 0.8888 - val_loss: 0.2738 - val_accuracy: 0.9070\n",
            "Epoch 12/20\n",
            "197/197 [==============================] - 27s 137ms/step - loss: 0.3105 - accuracy: 0.8923 - val_loss: 0.2696 - val_accuracy: 0.9085\n",
            "Epoch 13/20\n",
            "197/197 [==============================] - 27s 135ms/step - loss: 0.3031 - accuracy: 0.8942 - val_loss: 0.2668 - val_accuracy: 0.9133\n",
            "Epoch 14/20\n",
            "197/197 [==============================] - 27s 136ms/step - loss: 0.2964 - accuracy: 0.8968 - val_loss: 0.2645 - val_accuracy: 0.9107\n",
            "Epoch 15/20\n",
            "197/197 [==============================] - 27s 136ms/step - loss: 0.2906 - accuracy: 0.8984 - val_loss: 0.2566 - val_accuracy: 0.9132\n",
            "Epoch 16/20\n",
            "197/197 [==============================] - 27s 136ms/step - loss: 0.2841 - accuracy: 0.9011 - val_loss: 0.2499 - val_accuracy: 0.9136\n",
            "Epoch 17/20\n",
            "197/197 [==============================] - 28s 140ms/step - loss: 0.2781 - accuracy: 0.9021 - val_loss: 0.2503 - val_accuracy: 0.9143\n",
            "Epoch 18/20\n",
            "197/197 [==============================] - 28s 144ms/step - loss: 0.2719 - accuracy: 0.9040 - val_loss: 0.2479 - val_accuracy: 0.9151\n",
            "Epoch 19/20\n",
            "197/197 [==============================] - 27s 135ms/step - loss: 0.2688 - accuracy: 0.9053 - val_loss: 0.2498 - val_accuracy: 0.9166\n",
            "Epoch 20/20\n",
            "197/197 [==============================] - 27s 136ms/step - loss: 0.2662 - accuracy: 0.9062 - val_loss: 0.2407 - val_accuracy: 0.9151\n"
          ]
        }
      ]
    },
    {
      "cell_type": "code",
      "source": [
        "scores = model.evaluate(test_images,test_labels)"
      ],
      "metadata": {
        "id": "s7HcrzTcwUCD",
        "colab": {
          "base_uri": "https://localhost:8080/"
        },
        "outputId": "3a868b44-dcfd-4854-e971-743d34274e39"
      },
      "execution_count": 44,
      "outputs": [
        {
          "output_type": "stream",
          "name": "stdout",
          "text": [
            "525/525 [==============================] - 1s 2ms/step - loss: 0.2407 - accuracy: 0.9151\n"
          ]
        }
      ]
    },
    {
      "cell_type": "code",
      "source": [
        "print(f\"Accuracy: {scores[1]*100}%\")"
      ],
      "metadata": {
        "colab": {
          "base_uri": "https://localhost:8080/"
        },
        "id": "0TjRqHBkrm1r",
        "outputId": "7c416363-e5ba-44f3-ab52-71e83f891c22"
      },
      "execution_count": 45,
      "outputs": [
        {
          "output_type": "stream",
          "name": "stdout",
          "text": [
            "Accuracy: 91.51190519332886%\n"
          ]
        }
      ]
    },
    {
      "cell_type": "markdown",
      "source": [
        "Training and validation accuracy and loss plots"
      ],
      "metadata": {
        "id": "pdeKGheHxi3i"
      }
    },
    {
      "cell_type": "code",
      "source": [
        "plt.plot(history.history['accuracy'])\n",
        "plt.plot(history.history['val_accuracy'])\n",
        "plt.title('Model Accuracy')\n",
        "plt.ylabel('Accuracy')\n",
        "plt.xlabel('Epoch')\n",
        "plt.legend(['Train', 'Test'], loc='upper left')\n",
        "plt.grid()\n",
        "plt.show()\n",
        "\n",
        "plt.plot(history.history['loss'])\n",
        "plt.plot(history.history['val_loss'])\n",
        "plt.title('Model loss')\n",
        "plt.ylabel('Loss')\n",
        "plt.xlabel('Epoch')\n",
        "plt.legend(['Train', 'Test'], loc='upper left')\n",
        "plt.grid()\n",
        "plt.show()"
      ],
      "metadata": {
        "colab": {
          "base_uri": "https://localhost:8080/",
          "height": 927
        },
        "id": "eUEmv5I5rmy4",
        "outputId": "1ebaf738-8bcf-49b5-a845-6d434584bbeb"
      },
      "execution_count": 46,
      "outputs": [
        {
          "output_type": "display_data",
          "data": {
            "text/plain": [
              "<Figure size 640x480 with 1 Axes>"
            ],
            "image/png": "[encoded data removed]"
          },
          "metadata": {}
        },
        {
          "output_type": "display_data",
          "data": {
            "text/plain": [
              "<Figure size 640x480 with 1 Axes>"
            ],
            "image/png": "[encoded data removed]"
          },
          "metadata": {}
        }
      ]
    },
    {
      "cell_type": "code",
      "source": [
        "model.save(\"VIN_model.h5\")"
      ],
      "metadata": {
        "id": "a1sFn1RZrmwJ"
      },
      "execution_count": 38,
      "outputs": []
    },
    {
      "cell_type": "code",
      "source": [],
      "metadata": {
        "id": "-SCMMCD-vDyo"
      },
      "execution_count": null,
      "outputs": []
    }
  ]
}